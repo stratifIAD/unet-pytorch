{
 "cells": [
  {
   "cell_type": "code",
   "execution_count": 1,
   "metadata": {},
   "outputs": [],
   "source": [
    "from openslide import OpenSlide, lowlevel \n",
    "import matplotlib.pyplot as plt\n",
    "from shapely.geometry import Polygon\n",
    "import numpy as np\n",
    "from PIL import Image, ImageDraw\n",
    "import math\n",
    "from matplotlib import cm\n",
    "import staintools\n",
    "import glob\n",
    "import os\n",
    "from tqdm import tqdm\n",
    "import cv2 as cv\n",
    "import multiprocessing\n",
    "import xml.etree.ElementTree as ET\n",
    "\n",
    "Image.MAX_IMAGE_PIXELS = 325755924"
   ]
  },
  {
   "cell_type": "code",
   "execution_count": 2,
   "metadata": {},
   "outputs": [],
   "source": [
    "def normalizeWSI(slides, idx, method):\n",
    "    for i in idx:\n",
    "        # --- Process per WSI --- #\n",
    "        slide_name = slides[i]\n",
    "        name_wo_ndpi = slide_name.split('/')[-1].split('.ndpi')[0]\n",
    "        print(f'[INFO] Processing slide {name_wo_ndpi}')\n",
    "\n",
    "        folder_patches = os.path.join(root_dir, f'scanner_old/{name_wo_ndpi}/patches')\n",
    "\n",
    "        if method == 'vahadane':\n",
    "            output_folder = os.path.join(root_dir, f'scanner_old/{name_wo_ndpi}/vahadane')\n",
    "        if method == 'macenko':\n",
    "            output_folder = os.path.join(root_dir, f'scanner_old/{name_wo_ndpi}/macenko')\n",
    "\n",
    "        # print(f'    Reading patches from:   {folder_patches}')\n",
    "        # print(f'    Saving Vahadane to:     {output_folder_vahadane}')\n",
    "\n",
    "        os.makedirs(output_folder, exist_ok=True)\n",
    "\n",
    "        for img in glob.glob(os.path.join(folder_patches,'*.png')):\n",
    "            source = staintools.read_image(img)\n",
    "\n",
    "            norm_img = normalize_alternative(source, target, method, True)\n",
    "            output_filename = os.path.join(output_folder, img.split('/')[-1])\n",
    "            norm_img = Image.fromarray(norm_img)\n",
    "            norm_img.save(output_filename)\n",
    "\n",
    "\n",
    "def normalize_alternative(image, ref, method, standartize_brightness):\n",
    "    if standartize_brightness:\n",
    "        image = staintools.LuminosityStandardizer.standardize(image)\n",
    "        ref = staintools.LuminosityStandardizer.standardize(ref)\n",
    "            \n",
    "    if method == 'reinhard':\n",
    "        normalizer = staintools.ReinhardColorNormalizer()\n",
    "    if method == 'vahadane':\n",
    "        normalizer = staintools.StainNormalizer(method='vahadane')\n",
    "    if method == 'macenko':\n",
    "        normalizer = staintools.StainNormalizer(method='macenko')\n",
    "            \n",
    "    normalizer.fit(ref)\n",
    "    norm_img = normalizer.transform(image)\n",
    "        \n",
    "    return norm_img  "
   ]
  },
  {
   "cell_type": "code",
   "execution_count": 10,
   "metadata": {},
   "outputs": [
    {
     "name": "stdout",
     "output_type": "stream",
     "text": [
      "Processor 0: WSIs [5]\n",
      "Processor 1: WSIs [6]\n",
      "Processor 2: WSIs [7]\n",
      "Processor 3: WSIs [9]\n",
      "[INFO] Processing slide APP-point-mutation_CS427\n",
      "[INFO] Processing slide APP-point-mutation_P29-11\n",
      "[INFO] Processing slide APP_point-mutation_BBN-9608\n",
      "[INFO] Processing slide sAD_5138\n"
     ]
    }
   ],
   "source": [
    "NUM_PROC = 4 # number of processors in PC\n",
    "\n",
    "# Define the path for the slides & labels\n",
    "slides_path = '/home/gabriel/Documents/phd/StratifiAD_project/AT8Dataset/AT8_wsi/'\n",
    "slides = sorted(glob.glob(os.path.join(slides_path,'*.ndpi')))\n",
    "\n",
    "patchSize = 128\n",
    "root_dir = '/home/gabriel/Documents/phd/StratifiAD_project/dataset'\n",
    "target = staintools.read_image(f\"../data/norm_reference_{patchSize}x{patchSize}_oldscanner.png\")\n",
    "\n",
    "jobs = []\n",
    "idx = [5, 6, 7, 9] # WSIs to be processed\n",
    "\n",
    "for i in range(NUM_PROC):\n",
    "    imgs_per_proc = (len(idx)//NUM_PROC)\n",
    "    print(f'Processor {i}: WSIs {idx[i*imgs_per_proc:(i+1)*imgs_per_proc]}')\n",
    "    process = multiprocessing.Process(target=normalizeWSI, args=(slides, idx[i*imgs_per_proc:(i+1)*imgs_per_proc], 'macenko'))\n",
    "    jobs.append(process)\n",
    "\n",
    "for j in jobs:\n",
    "    j.start()\n",
    "\n",
    "for j in jobs:\n",
    "    j.join()"
   ]
  }
 ],
 "metadata": {
  "interpreter": {
   "hash": "9322d5e597c61f417582b6398a47c7b19090b303d2ad93ca9fa86695f7518538"
  },
  "kernelspec": {
   "display_name": "Python 3.6.9 ('stratifiad-nXPw3IFk')",
   "language": "python",
   "name": "python3"
  },
  "language_info": {
   "codemirror_mode": {
    "name": "ipython",
    "version": 3
   },
   "file_extension": ".py",
   "mimetype": "text/x-python",
   "name": "python",
   "nbconvert_exporter": "python",
   "pygments_lexer": "ipython3",
   "version": "3.6.9"
  },
  "orig_nbformat": 4
 },
 "nbformat": 4,
 "nbformat_minor": 2
}
